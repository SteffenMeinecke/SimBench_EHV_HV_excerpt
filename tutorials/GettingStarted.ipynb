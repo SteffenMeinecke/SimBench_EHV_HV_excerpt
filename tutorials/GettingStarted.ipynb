{
 "cells": [
  {
   "cell_type": "markdown",
   "metadata": {},
   "source": [
    "# Getting Started\n",
    "\n",
    "This tutorial introduces the main functionality `SimBench_for_phd()` and give some additional insights into code that is included."
   ]
  },
  {
   "cell_type": "markdown",
   "metadata": {},
   "source": [
    "## Instation\n",
    "If not already done, you need to install the repository. It is recommended to do this via pip - as probably known with other python packages.\n",
    "Do `pip install SimBench_EHV_HV_excerpt`. To install all optional dependencies, you may instead want to run `pip install SimBench_EHV_HV_excerpt[all]`.\n",
    "\n",
    "To test you installation you can run:"
   ]
  },
  {
   "cell_type": "code",
   "execution_count": 1,
   "metadata": {},
   "outputs": [
    {
     "name": "stdout",
     "output_type": "stream",
     "text": [
      "\u001b[1m============================= test session starts =============================\u001b[0m\n",
      "platform win32 -- Python 3.10.11, pytest-8.2.0, pluggy-1.5.0\n",
      "rootdir: C:\\Users\\smeinecke\\Documents\\GIT\\SimBench_EHV_HV_excerpt\n",
      "configfile: pyproject.toml\n",
      "plugins: anyio-4.3.0, forked-1.6.0, xdist-2.5.0\n",
      "collected 5 items\n",
      "\n",
      "..\\SimBench_EHV_HV_excerpt\\test\\test_SimBench_for_phd.py \u001b[32m.\u001b[0m\u001b[32m.\u001b[0m\u001b[32m.\u001b[0m"
     ]
    },
    {
     "name": "stderr",
     "output_type": "stream",
     "text": [
      "100%|██████████| 8/8 [00:18<00:00,  2.33s/it]"
     ]
    },
    {
     "name": "stdout",
     "output_type": "stream",
     "text": [
      "\u001b[32m.\u001b[0m\n",
      "..\\SimBench_EHV_HV_excerpt\\test\\test_h5_profiles.py "
     ]
    },
    {
     "name": "stderr",
     "output_type": "stream",
     "text": [
      "\n"
     ]
    },
    {
     "name": "stdout",
     "output_type": "stream",
     "text": [
      "\u001b[32m.\u001b[0m\n",
      "\n",
      "\u001b[33m============================== warnings summary ===============================\u001b[0m\n",
      "SimBench_EHV_HV_excerpt/test/test_SimBench_for_phd.py::test_powers\n",
      "  C:\\Users\\smeinecke\\Documents\\GIT\\pandapower\\pandapower\\timeseries\\output_writer.py:177: FutureWarning: Setting an item of incompatible dtype is deprecated and will raise in a future error of pandas. Value '[0, 24, 48, 72, 96, 120, 144, 168]' has dtype incompatible with bool, please explicitly cast to a compatible dtype first.\n",
      "    self.output[\"Parameters\"].loc[:, \"time_step\"] = self.time_steps\n",
      "\n",
      "SimBench_EHV_HV_excerpt/test/test_SimBench_for_phd.py::test_powers\n",
      "  C:\\Users\\smeinecke\\Documents\\GIT\\pandapower\\pandapower\\control\\run_control.py:50: FutureWarning: Downcasting object dtype arrays on .fillna, .ffill, .bfill is deprecated and will change in a future version. Call result.infer_objects(copy=False) instead. To opt-in to the future behavior, set `pd.set_option('future.no_silent_downcasting', True)`\n",
      "    level = controller.level.fillna(0).apply(asarray).values\n",
      "\n",
      "-- Docs: https://docs.pytest.org/en/stable/how-to/capture-warnings.html\n",
      "\u001b[33m======================= \u001b[32m5 passed\u001b[0m, \u001b[33m\u001b[1m2 warnings\u001b[0m\u001b[33m in 23.69s\u001b[0m\u001b[33m ========================\u001b[0m\n"
     ]
    }
   ],
   "source": [
    "import SimBench_EHV_HV_excerpt.test\n",
    "\n",
    "SimBench_EHV_HV_excerpt.test.run_all_tests()"
   ]
  },
  {
   "cell_type": "markdown",
   "metadata": {},
   "source": [
    "## Usage\n",
    "Essentially, the use of the repository is intended solely for the application of the following code:"
   ]
  },
  {
   "cell_type": "code",
   "execution_count": 2,
   "metadata": {},
   "outputs": [],
   "source": [
    "import SimBench_EHV_HV_excerpt as sbe\n",
    "\n",
    "net = sbe.SimBench_for_phd()"
   ]
  },
  {
   "cell_type": "markdown",
   "metadata": {},
   "source": [
    "In this way you have loaded the grid data into the variable `net`.\n",
    "To also include time series profiles, you need to pass `time_steps` as `True` or as iterable with integers from `0` to `366*24*4 -1` (number of quarter hour time steps in the year of the SimBench data).\n",
    "Loading time series profiles may take some more time (around 2s)."
   ]
  },
  {
   "cell_type": "code",
   "execution_count": 3,
   "metadata": {},
   "outputs": [],
   "source": [
    "net_with_profiles = sbe.SimBench_for_phd(time_steps=[0, 1, 2, 3])"
   ]
  },
  {
   "cell_type": "markdown",
   "metadata": {},
   "source": [
    "Lets have a look of the data available."
   ]
  },
  {
   "cell_type": "code",
   "execution_count": 4,
   "metadata": {},
   "outputs": [
    {
     "name": "stdout",
     "output_type": "stream",
     "text": [
      "Included elements:\n",
      "bus      261\n",
      "sgen     181\n",
      "trafo     24\n",
      "gen       72\n",
      "load     244\n",
      "line     399\n",
      "dtype: int64\n",
      "\n",
      "Included system operator zones:\n",
      "[1, 2, 3, 4]\n",
      "\n",
      "Profiles:\n",
      "dict_keys(['sgen.p_mw', 'load.p_mw', 'load.q_mvar', 'gen.p_mw', 'gen.vm_pu'])\n",
      "\n",
      "Time steps in profiles (should be as requested above):\n",
      "Index([0, 1, 2, 3], dtype='int64')\n"
     ]
    }
   ],
   "source": [
    "import pandapower as pp\n",
    "print(\"Included elements:\")\n",
    "print(pp.toolbox.count_elements(net))\n",
    "print(\"\\nIncluded system operator zones:\")\n",
    "print(sorted(set(net.bus.zone)))\n",
    "print(\"\\nProfiles:\")\n",
    "print(net_with_profiles.profiles.keys())\n",
    "print(\"\\nTime steps in profiles (should be as requested above):\")\n",
    "print(net_with_profiles.profiles[\"load.p_mw\"].index)"
   ]
  }
 ],
 "metadata": {
  "kernelspec": {
   "display_name": "Python 3.10.11 ('base')",
   "language": "python",
   "name": "python3"
  },
  "language_info": {
   "codemirror_mode": {
    "name": "ipython",
    "version": 3
   },
   "file_extension": ".py",
   "mimetype": "text/x-python",
   "name": "python",
   "nbconvert_exporter": "python",
   "pygments_lexer": "ipython3",
   "version": "3.10.11"
  },
  "orig_nbformat": 4,
  "vscode": {
   "interpreter": {
    "hash": "19d1d53a962d236aa061289c2ac16dc8e6d9648c89fe79f459ae9a3493bc67b4"
   }
  }
 },
 "nbformat": 4,
 "nbformat_minor": 2
}
